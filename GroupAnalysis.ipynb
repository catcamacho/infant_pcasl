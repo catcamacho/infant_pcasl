{
 "cells": [
  {
   "cell_type": "markdown",
   "metadata": {},
   "source": [
    "## Group Level Analysis\n",
    "\n",
    "This notebook is designed to perform a voxelwise analysis of the infant CBF data"
   ]
  },
  {
   "cell_type": "code",
   "execution_count": 1,
   "metadata": {},
   "outputs": [],
   "source": [
    "from nipype.interfaces.utility import Function, IdentityInterface\n",
    "from nipype.interfaces.io import SelectFiles, DataSink, DataGrabber\n",
    "from nipype.pipeline.engine import Workflow, Node, MapNode\n",
    "from nipype.interfaces.fsl.utils import Merge\n",
    "from nipype.interfaces.fsl.model import Randomise\n",
    "from nipype.interfaces.fsl.maths import ApplyMask\n",
    "\n",
    "# FSL set up- change default file output type\n",
    "from nipype.interfaces.fsl import FSLCommand\n",
    "FSLCommand.set_default_output_type('NIFTI_GZ')\n",
    "\n",
    "#other study-specific variables\n",
    "#project_home = '/Volumes/iang/active/BABIES/BABIES_perfusion'\n",
    "project_home = '/Users/catcamacho/Box/SNAP/BABIES'\n",
    "output_dir = project_home + '/proc/asl_group'\n",
    "preproc_dir = project_home + '/proc/asl_preproc'\n",
    "wkflow_dir = project_home + '/workflows'\n",
    "template = project_home + '/templates/T2w_BABIES_template_2mm.nii.gz'\n",
    "mask = project_home + '/templates/BABIES_gm_mask_2mm.nii.gz'\n",
    "\n",
    "# Files for group level analysis\n",
    "group_mat = project_home + '/misc/design_kmg.mat'\n",
    "t_contrasts = project_home + '/misc/tcon_kmg.con'"
   ]
  },
  {
   "cell_type": "code",
   "execution_count": 2,
   "metadata": {},
   "outputs": [],
   "source": [
    "# Data Handling Nodes\n",
    "\n",
    "datasink = Node(DataSink(), name='datasink')\n",
    "datasink.inputs.base_directory = output_dir\n",
    "datasink.inputs.container = output_dir\n",
    "\n",
    "grabcbfdata = Node(DataGrabber(template=preproc_dir + '/cbf_volume/*/salsop_cbf_masked.nii.gz', \n",
    "                               sort_filelist=True, \n",
    "                               outfields=['cbf_list']), \n",
    "                   name='grabcbf')\n"
   ]
  },
  {
   "cell_type": "code",
   "execution_count": 3,
   "metadata": {},
   "outputs": [],
   "source": [
    "# Analysis Nodes\n",
    "\n",
    "merge = Node(Merge(dimension = 't'), name = 'merge')\n",
    "\n",
    "apply_mask = Node(ApplyMask(mask_file=mask, nan2zeros=True), name='apply_mask')\n",
    "\n",
    "randomise = Node(Randomise(tfce = False,\n",
    "                           num_perm = 500,\n",
    "                           tcon = t_contrasts,\n",
    "                           demean = True,\n",
    "                           design_mat = group_mat), name = 'randomise')"
   ]
  },
  {
   "cell_type": "code",
   "execution_count": 5,
   "metadata": {},
   "outputs": [
    {
     "name": "stdout",
     "output_type": "stream",
     "text": [
      "180702-20:27:11,591 workflow INFO:\n",
      "\t Generated workflow graph: /Users/catcamacho/Box/SNAP/BABIES/workflows/grouplevel/graph.png (graph2use=flat, simple_form=True).\n",
      "180702-20:27:11,617 workflow INFO:\n",
      "\t Workflow grouplevel settings: ['check', 'execution', 'logging', 'monitoring']\n",
      "180702-20:27:11,629 workflow INFO:\n",
      "\t Running in parallel.\n",
      "180702-20:27:11,633 workflow INFO:\n",
      "\t [MultiProc] Running 0 tasks, and 1 jobs ready. Free memory (GB): 14.40/14.40, Free processors: 2/2.\n",
      "180702-20:27:11,683 workflow INFO:\n",
      "\t [Node] Setting-up \"grouplevel.grabcbf\" in \"/Users/catcamacho/Box/SNAP/BABIES/workflows/grouplevel/grabcbf\".\n",
      "180702-20:27:11,699 workflow INFO:\n",
      "\t [Node] Running \"grabcbf\" (\"nipype.interfaces.io.DataGrabber\")\n",
      "180702-20:27:11,720 workflow INFO:\n",
      "\t [Node] Finished \"grouplevel.grabcbf\".\n",
      "180702-20:27:13,637 workflow INFO:\n",
      "\t [Job 0] Completed (grouplevel.grabcbf).\n",
      "180702-20:27:13,639 workflow INFO:\n",
      "\t [MultiProc] Running 0 tasks, and 1 jobs ready. Free memory (GB): 14.40/14.40, Free processors: 2/2.\n",
      "180702-20:27:13,673 workflow INFO:\n",
      "\t [Node] Setting-up \"grouplevel.merge\" in \"/Users/catcamacho/Box/SNAP/BABIES/workflows/grouplevel/merge\".\n",
      "180702-20:27:13,693 workflow INFO:\n",
      "\t [Node] Running \"merge\" (\"nipype.interfaces.fsl.utils.Merge\"), a CommandLine Interface with command:\n",
      "fslmerge -t salsop_cbf_masked_merged.nii.gz /Users/catcamacho/Box/SNAP/BABIES/proc/asl_preproc/cbf_volume/002x/salsop_cbf_masked.nii.gz /Users/catcamacho/Box/SNAP/BABIES/proc/asl_preproc/cbf_volume/012/salsop_cbf_masked.nii.gz /Users/catcamacho/Box/SNAP/BABIES/proc/asl_preproc/cbf_volume/020/salsop_cbf_masked.nii.gz /Users/catcamacho/Box/SNAP/BABIES/proc/asl_preproc/cbf_volume/021/salsop_cbf_masked.nii.gz /Users/catcamacho/Box/SNAP/BABIES/proc/asl_preproc/cbf_volume/023/salsop_cbf_masked.nii.gz /Users/catcamacho/Box/SNAP/BABIES/proc/asl_preproc/cbf_volume/027/salsop_cbf_masked.nii.gz /Users/catcamacho/Box/SNAP/BABIES/proc/asl_preproc/cbf_volume/031/salsop_cbf_masked.nii.gz /Users/catcamacho/Box/SNAP/BABIES/proc/asl_preproc/cbf_volume/033x/salsop_cbf_masked.nii.gz /Users/catcamacho/Box/SNAP/BABIES/proc/asl_preproc/cbf_volume/035/salsop_cbf_masked.nii.gz /Users/catcamacho/Box/SNAP/BABIES/proc/asl_preproc/cbf_volume/036/salsop_cbf_masked.nii.gz /Users/catcamacho/Box/SNAP/BABIES/proc/asl_preproc/cbf_volume/039/salsop_cbf_masked.nii.gz /Users/catcamacho/Box/SNAP/BABIES/proc/asl_preproc/cbf_volume/062/salsop_cbf_masked.nii.gz /Users/catcamacho/Box/SNAP/BABIES/proc/asl_preproc/cbf_volume/064x/salsop_cbf_masked.nii.gz /Users/catcamacho/Box/SNAP/BABIES/proc/asl_preproc/cbf_volume/067/salsop_cbf_masked.nii.gz /Users/catcamacho/Box/SNAP/BABIES/proc/asl_preproc/cbf_volume/072/salsop_cbf_masked.nii.gz /Users/catcamacho/Box/SNAP/BABIES/proc/asl_preproc/cbf_volume/076x/salsop_cbf_masked.nii.gz /Users/catcamacho/Box/SNAP/BABIES/proc/asl_preproc/cbf_volume/077x/salsop_cbf_masked.nii.gz /Users/catcamacho/Box/SNAP/BABIES/proc/asl_preproc/cbf_volume/087/salsop_cbf_masked.nii.gz /Users/catcamacho/Box/SNAP/BABIES/proc/asl_preproc/cbf_volume/091/salsop_cbf_masked.nii.gz /Users/catcamacho/Box/SNAP/BABIES/proc/asl_preproc/cbf_volume/099/salsop_cbf_masked.nii.gz /Users/catcamacho/Box/SNAP/BABIES/proc/asl_preproc/cbf_volume/100/salsop_cbf_masked.nii.gz /Users/catcamacho/Box/SNAP/BABIES/proc/asl_preproc/cbf_volume/102/salsop_cbf_masked.nii.gz /Users/catcamacho/Box/SNAP/BABIES/proc/asl_preproc/cbf_volume/105/salsop_cbf_masked.nii.gz /Users/catcamacho/Box/SNAP/BABIES/proc/asl_preproc/cbf_volume/106/salsop_cbf_masked.nii.gz /Users/catcamacho/Box/SNAP/BABIES/proc/asl_preproc/cbf_volume/109/salsop_cbf_masked.nii.gz /Users/catcamacho/Box/SNAP/BABIES/proc/asl_preproc/cbf_volume/110/salsop_cbf_masked.nii.gz /Users/catcamacho/Box/SNAP/BABIES/proc/asl_preproc/cbf_volume/115/salsop_cbf_masked.nii.gz /Users/catcamacho/Box/SNAP/BABIES/proc/asl_preproc/cbf_volume/123/salsop_cbf_masked.nii.gz /Users/catcamacho/Box/SNAP/BABIES/proc/asl_preproc/cbf_volume/1005/salsop_cbf_masked.nii.gz /Users/catcamacho/Box/SNAP/BABIES/proc/asl_preproc/cbf_volume/1010/salsop_cbf_masked.nii.gz /Users/catcamacho/Box/SNAP/BABIES/proc/asl_preproc/cbf_volume/1020/salsop_cbf_masked.nii.gz /Users/catcamacho/Box/SNAP/BABIES/proc/asl_preproc/cbf_volume/1023/salsop_cbf_masked.nii.gz /Users/catcamacho/Box/SNAP/BABIES/proc/asl_preproc/cbf_volume/1024/salsop_cbf_masked.nii.gz /Users/catcamacho/Box/SNAP/BABIES/proc/asl_preproc/cbf_volume/1027/salsop_cbf_masked.nii.gz /Users/catcamacho/Box/SNAP/BABIES/proc/asl_preproc/cbf_volume/1033/salsop_cbf_masked.nii.gz /Users/catcamacho/Box/SNAP/BABIES/proc/asl_preproc/cbf_volume/1036/salsop_cbf_masked.nii.gz /Users/catcamacho/Box/SNAP/BABIES/proc/asl_preproc/cbf_volume/1078/salsop_cbf_masked.nii.gz\n",
      "180702-20:27:15,642 workflow INFO:\n",
      "\t [MultiProc] Running 1 tasks, and 0 jobs ready. Free memory (GB): 14.20/14.40, Free processors: 1/2.\n",
      "                     Currently running:\n",
      "                       * grouplevel.merge\n",
      "180702-20:27:20,125 workflow INFO:\n",
      "\t [Node] Finished \"grouplevel.merge\".\n",
      "180702-20:27:21,644 workflow INFO:\n",
      "\t [Job 1] Completed (grouplevel.merge).\n",
      "180702-20:27:21,646 workflow INFO:\n",
      "\t [MultiProc] Running 0 tasks, and 1 jobs ready. Free memory (GB): 14.40/14.40, Free processors: 2/2.\n",
      "180702-20:27:21,677 workflow INFO:\n",
      "\t [Node] Setting-up \"grouplevel.apply_mask\" in \"/Users/catcamacho/Box/SNAP/BABIES/workflows/grouplevel/apply_mask\".\n",
      "180702-20:27:21,684 workflow INFO:\n",
      "\t [Node] Running \"apply_mask\" (\"nipype.interfaces.fsl.maths.ApplyMask\"), a CommandLine Interface with command:\n",
      "fslmaths /Users/catcamacho/Box/SNAP/BABIES/workflows/grouplevel/merge/salsop_cbf_masked_merged.nii.gz -nan -mas /Users/catcamacho/Box/SNAP/BABIES/templates/BABIES_gm_mask_2mm.nii.gz /Users/catcamacho/Box/SNAP/BABIES/workflows/grouplevel/apply_mask/salsop_cbf_masked_merged_masked.nii.gz\n",
      "180702-20:27:23,648 workflow INFO:\n",
      "\t [MultiProc] Running 1 tasks, and 0 jobs ready. Free memory (GB): 14.20/14.40, Free processors: 1/2.\n",
      "                     Currently running:\n",
      "                       * grouplevel.apply_mask\n",
      "180702-20:27:27,679 workflow INFO:\n",
      "\t [Node] Finished \"grouplevel.apply_mask\".\n",
      "180702-20:27:29,655 workflow INFO:\n",
      "\t [Job 2] Completed (grouplevel.apply_mask).\n",
      "180702-20:27:29,658 workflow INFO:\n",
      "\t [MultiProc] Running 0 tasks, and 1 jobs ready. Free memory (GB): 14.40/14.40, Free processors: 2/2.\n",
      "180702-20:27:29,687 workflow INFO:\n",
      "\t [Node] Setting-up \"grouplevel.randomise\" in \"/Users/catcamacho/Box/SNAP/BABIES/workflows/grouplevel/randomise\".\n",
      "180702-20:27:29,693 workflow INFO:\n",
      "\t [Node] Running \"randomise\" (\"nipype.interfaces.fsl.model.Randomise\"), a CommandLine Interface with command:\n",
      "randomise -i /Users/catcamacho/Box/SNAP/BABIES/workflows/grouplevel/apply_mask/salsop_cbf_masked_merged_masked.nii.gz -o \"randomise\" -d /Users/catcamacho/Box/SNAP/BABIES/misc/design_kmg.mat -t /Users/catcamacho/Box/SNAP/BABIES/misc/tcon_kmg.con -D -n 500\n",
      "180702-20:27:31,658 workflow INFO:\n",
      "\t [MultiProc] Running 1 tasks, and 0 jobs ready. Free memory (GB): 14.20/14.40, Free processors: 1/2.\n",
      "                     Currently running:\n",
      "                       * grouplevel.randomise\n",
      "180702-20:27:32,249 workflow INFO:\n",
      "\t [Node] Finished \"grouplevel.randomise\".\n",
      "180702-20:27:33,660 workflow INFO:\n",
      "\t [Job 3] Completed (grouplevel.randomise).\n",
      "180702-20:27:33,662 workflow INFO:\n",
      "\t [MultiProc] Running 0 tasks, and 1 jobs ready. Free memory (GB): 14.40/14.40, Free processors: 2/2.\n",
      "180702-20:27:33,691 workflow INFO:\n",
      "\t [Node] Setting-up \"grouplevel.datasink\" in \"/Users/catcamacho/Box/SNAP/BABIES/workflows/grouplevel/datasink\".\n",
      "180702-20:27:33,698 workflow INFO:\n",
      "\t [Node] Running \"datasink\" (\"nipype.interfaces.io.DataSink\")\n",
      "180702-20:27:33,715 workflow INFO:\n",
      "\t [Node] Finished \"grouplevel.datasink\".\n",
      "180702-20:27:35,660 workflow INFO:\n",
      "\t [Job 4] Completed (grouplevel.datasink).\n",
      "180702-20:27:35,664 workflow INFO:\n",
      "\t [MultiProc] Running 0 tasks, and 0 jobs ready. Free memory (GB): 14.40/14.40, Free processors: 2/2.\n"
     ]
    },
    {
     "data": {
      "text/plain": [
       "<networkx.classes.digraph.DiGraph at 0x10bddc978>"
      ]
     },
     "execution_count": 5,
     "metadata": {},
     "output_type": "execute_result"
    }
   ],
   "source": [
    "# Analysis workflow\n",
    "\n",
    "grouplevel = Workflow(name='grouplevel')\n",
    "\n",
    "grouplevel.connect([(grabcbfdata, merge,[('cbf_list', 'in_files')]),\n",
    "                    (merge, apply_mask, [('merged_file','in_file')]),\n",
    "                    (apply_mask, randomise, [('out_file', 'in_file')]),\n",
    "                    (randomise, datasink, [('t_corrected_p_files', 'kmg_t_corrected_p_files_cesd')]),\n",
    "                    (randomise, datasink, [('tstat_files', 'kmg_tstat_files_cesd')])\n",
    "                   ])\n",
    "\n",
    "grouplevel.base_dir = wkflow_dir\n",
    "grouplevel.write_graph(graph2use='flat')\n",
    "grouplevel.run('MultiProc', plugin_args={'n_procs': 2})\n"
   ]
  },
  {
   "cell_type": "code",
   "execution_count": null,
   "metadata": {},
   "outputs": [],
   "source": []
  }
 ],
 "metadata": {
  "kernelspec": {
   "display_name": "Python 3",
   "language": "python",
   "name": "python3"
  },
  "language_info": {
   "codemirror_mode": {
    "name": "ipython",
    "version": 3
   },
   "file_extension": ".py",
   "mimetype": "text/x-python",
   "name": "python",
   "nbconvert_exporter": "python",
   "pygments_lexer": "ipython3",
   "version": "3.6.3"
  }
 },
 "nbformat": 4,
 "nbformat_minor": 2
}
