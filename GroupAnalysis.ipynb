{
 "cells": [
  {
   "cell_type": "code",
   "execution_count": 1,
   "metadata": {
    "collapsed": true
   },
   "outputs": [],
   "source": [
    "from nipype.interfaces.utility import Function, IdentityInterface\n",
    "from nipype.interfaces.io import SelectFiles, DataSink, DataGrabber\n",
    "from nipype.pipeline.engine import Workflow, Node, MapNode\n",
    "from nipype.interfaces.fsl.utils import Merge\n",
    "from nipype.interfaces.fsl.model import Randomise\n",
    "from nipype.interfaces.fsl.maths import ApplyMask\n",
    "\n",
    "# FSL set up- change default file output type\n",
    "from nipype.interfaces.fsl import FSLCommand\n",
    "FSLCommand.set_default_output_type('NIFTI')\n",
    "\n",
    "#other study-specific variables\n",
    "#project_home = '/Volumes/iang/active/BABIES/BABIES_perfusion'\n",
    "#project_home = '/Users/catcamacho/Dropbox/Projects/infant_ASL/proc'\n",
    "project_home = '/Users/axon/Dropbox/infant_ASL/proc'\n",
    "output_dir = project_home + '/Proc'\n",
    "wkflow_dir = project_home + '/Workflows'\n",
    "template = project_home + '/Templates/T2wtemplate_2mm.nii'\n",
    "mask = project_home + '/Templates/standard_mask.nii'\n",
    "\n",
    "# Files for group level analysis\n",
    "group_mat = project_home + '/Misc/group.mat'\n",
    "t_contrasts = project_home + '/Misc/tcon.con'"
   ]
  },
  {
   "cell_type": "code",
   "execution_count": 2,
   "metadata": {
    "collapsed": true
   },
   "outputs": [],
   "source": [
    "# Data Handling Nodes\n",
    "\n",
    "datasink = Node(DataSink(), name='datasink')\n",
    "datasink.inputs.base_directory = output_dir\n",
    "datasink.inputs.container = output_dir\n",
    "\n",
    "grabcbfdata = Node(DataGrabber(template=output_dir + '/warped_cbf_vol/*/salsop_cbf_warped.nii', \n",
    "                               sort_filelist=True, \n",
    "                               outfields=['cbf_list']), \n",
    "                   name='grabcbf')"
   ]
  },
  {
   "cell_type": "code",
   "execution_count": 3,
   "metadata": {
    "collapsed": true
   },
   "outputs": [],
   "source": [
    "# Analysis Nodes\n",
    "\n",
    "merge = Node(Merge(dimension = 't'), name = 'merge')\n",
    "\n",
    "apply_mask = Node(ApplyMask(mask_file=mask), name='apply_mask')\n",
    "\n",
    "randomise = Node(Randomise(tfce = True,\n",
    "                           num_perm = 500,\n",
    "                           tcon = t_contrasts,\n",
    "                           design_mat = group_mat), name = 'randomise')"
   ]
  },
  {
   "cell_type": "code",
   "execution_count": 4,
   "metadata": {},
   "outputs": [
    {
     "name": "stdout",
     "output_type": "stream",
     "text": [
      "171110-17:20:45,285 workflow INFO:\n",
      "\t Generated workflow graph: /Users/axon/Dropbox/infant_ASL/proc/Workflows/grouplevel/graph.dot.png (graph2use=flat, simple_form=True).\n",
      "171110-17:20:45,481 workflow INFO:\n",
      "\t Workflow grouplevel settings: ['check', 'execution', 'logging']\n",
      "171110-17:20:45,503 workflow INFO:\n",
      "\t Running in parallel.\n",
      "171110-17:20:45,509 workflow INFO:\n",
      "\t Executing: grabcbf ID: 0\n",
      "171110-17:20:45,519 workflow INFO:\n",
      "\t Executing node grabcbf in dir: /Users/axon/Dropbox/infant_ASL/proc/Workflows/grouplevel/grabcbf\n",
      "171110-17:20:45,553 workflow INFO:\n",
      "\t [Job finished] jobname: grabcbf jobid: 0\n",
      "171110-17:20:45,557 workflow INFO:\n",
      "\t Executing: merge ID: 1\n",
      "171110-17:20:45,562 workflow INFO:\n",
      "\t [Job finished] jobname: merge jobid: 1\n",
      "171110-17:20:45,568 workflow INFO:\n",
      "\t Executing: apply_mask ID: 2\n",
      "171110-17:20:45,571 workflow INFO:\n",
      "\t [Job finished] jobname: apply_mask jobid: 2\n",
      "171110-17:20:45,577 workflow INFO:\n",
      "\t Executing: randomise ID: 3\n",
      "171110-17:20:45,586 workflow INFO:\n",
      "\t Executing node randomise in dir: /Users/axon/Dropbox/infant_ASL/proc/Workflows/grouplevel/randomise\n",
      "171110-17:20:45,608 workflow INFO:\n",
      "\t Running: randomise -i /Users/axon/Dropbox/infant_ASL/proc/Workflows/grouplevel/apply_mask/salsop_cbf_warped_merged_masked.nii -o \"tbss_\" -d /Users/axon/Dropbox/infant_ASL/proc/Misc/group.mat -t /Users/axon/Dropbox/infant_ASL/proc/Misc/tcon.con -n 500 -T\n",
      "171110-17:26:10,679 workflow INFO:\n",
      "\t [Job finished] jobname: randomise jobid: 3\n",
      "171110-17:26:10,682 workflow INFO:\n",
      "\t Executing: datasink ID: 4\n",
      "171110-17:26:10,690 workflow INFO:\n",
      "\t Executing node datasink in dir: /Users/axon/Dropbox/infant_ASL/proc/Workflows/grouplevel/datasink\n",
      "171110-17:26:10,815 workflow INFO:\n",
      "\t [Job finished] jobname: datasink jobid: 4\n"
     ]
    },
    {
     "data": {
      "text/plain": [
       "<networkx.classes.digraph.DiGraph at 0x10e4745c0>"
      ]
     },
     "execution_count": 4,
     "metadata": {},
     "output_type": "execute_result"
    }
   ],
   "source": [
    "# Analysis workflow\n",
    "\n",
    "grouplevel = Workflow(name='grouplevel')\n",
    "\n",
    "grouplevel.connect([(grabcbfdata, merge,[('cbf_list', 'in_files')]),\n",
    "                    (merge, apply_mask, [('merged_file','in_file')]),\n",
    "                    (apply_mask, randomise, [('out_file', 'in_file')]),\n",
    "                    (randomise, datasink, [('t_corrected_p_files', 't_corrected_p_files')]),\n",
    "                    (randomise, datasink, [('tstat_files', 'tstat_files')])\n",
    "                   ])\n",
    "\n",
    "grouplevel.base_dir = wkflow_dir\n",
    "grouplevel.write_graph(graph2use='flat')\n",
    "grouplevel.run('MultiProc', plugin_args={'n_procs': 2})"
   ]
  }
 ],
 "metadata": {
  "kernelspec": {
   "display_name": "Python 3",
   "language": "python",
   "name": "python3"
  },
  "language_info": {
   "codemirror_mode": {
    "name": "ipython",
    "version": 3
   },
   "file_extension": ".py",
   "mimetype": "text/x-python",
   "name": "python",
   "nbconvert_exporter": "python",
   "pygments_lexer": "ipython3",
   "version": "3.6.1"
  }
 },
 "nbformat": 4,
 "nbformat_minor": 2
}
