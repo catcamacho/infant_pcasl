{
 "cells": [
  {
   "cell_type": "code",
   "execution_count": null,
   "metadata": {
    "collapsed": true
   },
   "outputs": [],
   "source": [
    "from nipype.interfaces.utility import Function, IdentityInterface\n",
    "from nipype.interfaces.io import SelectFiles, DataSink, DataGrabber\n",
    "from nipype.pipeline.engine import Workflow, Node, MapNode\n",
    "from nipype.interfaces.fsl.utils import Merge\n",
    "from nipype.interfaces.fsl.model import Randomise\n",
    "\n",
    "# FSL set up- change default file output type\n",
    "from nipype.interfaces.fsl import FSLCommand\n",
    "FSLCommand.set_default_output_type('NIFTI')\n",
    "\n",
    "#other study-specific variables\n",
    "#project_home = '/Volumes/iang/active/BABIES/BABIES_perfusion'\n",
    "project_home = '/Users/catcamacho/Dropbox/Projects/infant_ASL/proc'\n",
    "output_dir = project_home + '/Proc'\n",
    "wkflow_dir = project_home + '/Workflows'\n",
    "template = project_home + '/Templates/T2wtemplate_2mm.nii'\n",
    "\n",
    "# Files for group level analysis\n",
    "group_mat = project_home + '/Misc/group.mat'\n",
    "t_contrasts = project_home + '/Misc/tcon.con'"
   ]
  },
  {
   "cell_type": "code",
   "execution_count": null,
   "metadata": {
    "collapsed": true
   },
   "outputs": [],
   "source": [
    "# Data Handling Nodes\n",
    "\n",
    "datasink = Node(DataSink(), name='datasink')\n",
    "datasink.inputs.base_directory = output_dir\n",
    "datasink.inputs.container = output_dir\n",
    "\n",
    "grabcbfdata = Node(DataGrabber(template=output_dir + '/warped_cbf_vol/*/salsop_cbf_warped.nii', \n",
    "                               sort_filelist=True, \n",
    "                               outfields=['cbf_list']), \n",
    "                   name='grabcbf')"
   ]
  },
  {
   "cell_type": "code",
   "execution_count": null,
   "metadata": {
    "collapsed": true
   },
   "outputs": [],
   "source": [
    "# Analysis Nodes\n",
    "\n",
    "merge = Node(Merge(dimension = 't'), name = 'merge')\n",
    "\n",
    "randomise = Node(Randomise(tfce = True,\n",
    "                           num_perm = 500,\n",
    "                           tcon = t_contrasts,\n",
    "                           design_mat = group_mat), name = 'randomise')"
   ]
  },
  {
   "cell_type": "code",
   "execution_count": null,
   "metadata": {
    "collapsed": true
   },
   "outputs": [],
   "source": [
    "# Analysis workflow\n",
    "\n",
    "grouplevel = Workflow(name='grouplevel')\n",
    "\n",
    "grouplevel.connect([(grabcbfdata, merge,[('cbf_list', 'in_files')]),\n",
    "                    (merge, randomise, [('merged_file', 'in_file')]),\n",
    "                    (randomise, datasink, [('t_corrected_p_files', 't_corrected_p_files')]),\n",
    "                    (randomise, datasink, [('t_p_files', 't_p_files')]),\n",
    "                    (randomise, datasink, [('tstat_files', 'tstat_files')])\n",
    "                   ])\n",
    "\n",
    "grouplevel.base_dir = wkflow_dir\n",
    "grouplevel.write_graph(graph2use='flat')\n",
    "grouplevel.run('MultiProc', plugin_args={'n_procs': 2})"
   ]
  }
 ],
 "metadata": {
  "kernelspec": {
   "display_name": "Python 2",
   "language": "python",
   "name": "python2"
  },
  "language_info": {
   "codemirror_mode": {
    "name": "ipython",
    "version": 2
   },
   "file_extension": ".py",
   "mimetype": "text/x-python",
   "name": "python",
   "nbconvert_exporter": "python",
   "pygments_lexer": "ipython2",
   "version": "2.7.11"
  }
 },
 "nbformat": 4,
 "nbformat_minor": 2
}
