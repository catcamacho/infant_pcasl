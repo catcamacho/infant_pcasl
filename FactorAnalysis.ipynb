{
 "cells": [
  {
   "cell_type": "code",
   "execution_count": 8,
   "metadata": {},
   "outputs": [
    {
     "name": "stdout",
     "output_type": "stream",
     "text": [
      "                 Factor1   Factor2   Factor3   Factor4   Factor5   Factor6\n",
      "SS Loadings     1.854892  1.475507  1.141746  1.238987  0.931417  0.829951\n",
      "Proportion Var  0.132492  0.105393  0.081553  0.088499  0.066530  0.059282\n",
      "Cumulative Var  0.132492  0.237886  0.319439  0.407938  0.474468  0.533750\n"
     ]
    }
   ],
   "source": [
    "from pandas import read_csv, DataFrame\n",
    "from factor_analyzer import FactorAnalyzer\n",
    "\n",
    "project_home = '/Users/catcamacho/Box/SNAP/BABIES/misc/'\n",
    "ibq_data = read_csv(project_home + '2kmeans_group_fulldata.csv', index_col=0)\n",
    "features=ibq_data.iloc[:,20:34]\n",
    "\n",
    "fa = FactorAnalyzer()\n",
    "fa.analyze(features,6,rotation='varimax', normalize=False)\n",
    "print(fa.get_factor_variance())"
   ]
  },
  {
   "cell_type": "code",
   "execution_count": 9,
   "metadata": {},
   "outputs": [
    {
     "name": "stdout",
     "output_type": "stream",
     "text": [
      "                              Factor1   Factor2   Factor3   Factor4   Factor5  \\\n",
      "sadness_std                 -0.047760  0.594649  0.130150  0.065057 -0.047599   \n",
      "distress_to_limitations_std  0.007590  0.817534 -0.185897  0.208984  0.047260   \n",
      "falling_reactivity_std       0.016515  0.367694 -0.323240  0.199732  0.099369   \n",
      "cuddliness_std               0.027433 -0.122558  0.123970 -0.272517  0.076129   \n",
      "activity_level_std           0.056225  0.130694 -0.005998  0.984372  0.051973   \n",
      "low_intensity_pleasure_std   0.096481 -0.125312  0.808265 -0.023987  0.097699   \n",
      "duration_of_orienting_std    0.105270 -0.049027  0.225321 -0.053344  0.213873   \n",
      "soothability_std             0.138217 -0.176757  0.018537 -0.212371  0.174334   \n",
      "fear_std                     0.181203  0.431555  0.205983  0.097425 -0.217540   \n",
      "perceptual_sensitivity_std   0.193375  0.101811  0.432111  0.120759  0.326936   \n",
      "approach_std                 0.262377  0.013374  0.112501  0.089326  0.791518   \n",
      "vocal_reactivity_std         0.606561  0.129507  0.051951  0.161726  0.095306   \n",
      "high_intensity_pleasure_std  0.727945  0.120168  0.144231  0.024954  0.110007   \n",
      "smiling_laughter_std         0.878625 -0.094293  0.025459  0.024053  0.144817   \n",
      "\n",
      "                              Factor6  \n",
      "sadness_std                 -0.091728  \n",
      "distress_to_limitations_std -0.084064  \n",
      "falling_reactivity_std      -0.442022  \n",
      "cuddliness_std               0.302113  \n",
      "activity_level_std          -0.070935  \n",
      "low_intensity_pleasure_std   0.025701  \n",
      "duration_of_orienting_std   -0.237724  \n",
      "soothability_std             0.617300  \n",
      "fear_std                    -0.036168  \n",
      "perceptual_sensitivity_std   0.204786  \n",
      "approach_std                 0.056970  \n",
      "vocal_reactivity_std         0.030410  \n",
      "high_intensity_pleasure_std  0.187821  \n",
      "smiling_laughter_std        -0.043106  \n"
     ]
    }
   ],
   "source": [
    "loadings = fa.loadings\n",
    "loadings = loadings.sort_values('Factor1')\n",
    "print(loadings)"
   ]
  },
  {
   "cell_type": "code",
   "execution_count": null,
   "metadata": {},
   "outputs": [],
   "source": []
  }
 ],
 "metadata": {
  "kernelspec": {
   "display_name": "Python 3",
   "language": "python",
   "name": "python3"
  },
  "language_info": {
   "codemirror_mode": {
    "name": "ipython",
    "version": 3
   },
   "file_extension": ".py",
   "mimetype": "text/x-python",
   "name": "python",
   "nbconvert_exporter": "python",
   "pygments_lexer": "ipython3",
   "version": "3.6.3"
  }
 },
 "nbformat": 4,
 "nbformat_minor": 2
}
